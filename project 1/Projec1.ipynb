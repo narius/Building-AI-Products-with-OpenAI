{
 "cells": [
  {
   "cell_type": "markdown",
   "source": [
    "# Project 1"
   ],
   "metadata": {
    "collapsed": false
   },
   "id": "80ec33add901d48b"
  },
  {
   "cell_type": "markdown",
   "source": [
    "## Description\n",
    "The purpose of this project is to build an app that retrieves podcasts and then writes a summary of them"
   ],
   "metadata": {
    "collapsed": false
   },
   "id": "1dcb0ae16e53664"
  },
  {
   "cell_type": "code",
   "execution_count": 1,
   "outputs": [
    {
     "name": "stdout",
     "output_type": "stream",
     "text": [
      "Number of entries: 1187\n",
      "https://sphinx.acast.com/p/acast/s/theintelligencepodcast/e/64d9f5d373cfc00011164c31/media.mp3?tk=eyJ0ayI6ImRlZmF1bHQiLCJhZHMiOnRydWUsInNwb25zIjp0cnVlLCJzdGF0dXMiOiJwdWJsaWMifQ==&sig=G3L8rFPJSRtm0UaQ4l4jh7N5KYVchDC9uMRjs-juiXM\n"
     ]
    }
   ],
   "source": [
    "import feedparser\n",
    "podcast_feed_url = \"https://access.acast.com/rss/d556eb54-6160-4c85-95f4-47d9f5216c49\"\n",
    "podcast_feed = feedparser.parse(podcast_feed_url)\n",
    "print(f\"Number of entries: {len(podcast_feed.entries)}\")\n",
    "for item in podcast_feed.entries[0].links:\n",
    "  if (item['type'] == 'audio/mpeg'):\n",
    "    episode_url = item.href\n",
    "    print(episode_url)\n"
   ],
   "metadata": {
    "collapsed": false,
    "ExecuteTime": {
     "end_time": "2023-08-14T16:50:23.939944Z",
     "start_time": "2023-08-14T16:50:20.325660Z"
    }
   },
   "id": "2769d004a7d9e77f"
  },
  {
   "cell_type": "code",
   "execution_count": 2,
   "outputs": [
    {
     "name": "stdout",
     "output_type": "stream",
     "text": [
      "<Response [200]>\n"
     ]
    }
   ],
   "source": [
    "import requests\n",
    "response = requests.get(episode_url)\n",
    "with open(\"file.mp3\", \"w\") as file:\n",
    "  file = response.content\n",
    "\n",
    "print(response)"
   ],
   "metadata": {
    "collapsed": false,
    "ExecuteTime": {
     "end_time": "2023-08-14T16:50:26.918688Z",
     "start_time": "2023-08-14T16:50:23.943986Z"
    }
   },
   "id": "b79381da106e22e6"
  },
  {
   "cell_type": "code",
   "execution_count": 3,
   "outputs": [
    {
     "ename": "ModuleNotFoundError",
     "evalue": "No module named 'whisper'",
     "output_type": "error",
     "traceback": [
      "\u001B[0;31m---------------------------------------------------------------------------\u001B[0m",
      "\u001B[0;31mModuleNotFoundError\u001B[0m                       Traceback (most recent call last)",
      "Cell \u001B[0;32mIn[3], line 2\u001B[0m\n\u001B[1;32m      1\u001B[0m \u001B[38;5;28;01mimport\u001B[39;00m \u001B[38;5;21;01mpathlib\u001B[39;00m\n\u001B[0;32m----> 2\u001B[0m \u001B[38;5;28;01mimport\u001B[39;00m \u001B[38;5;21;01mwhisper\u001B[39;00m\n\u001B[1;32m      3\u001B[0m model_path \u001B[38;5;241m=\u001B[39m pathlib\u001B[38;5;241m.\u001B[39mPath(\u001B[38;5;124m\"\u001B[39m\u001B[38;5;124m./medium.pt\u001B[39m\u001B[38;5;124m\"\u001B[39m)\n\u001B[1;32m      4\u001B[0m \u001B[38;5;28;01mif\u001B[39;00m model_path\u001B[38;5;241m.\u001B[39mexists():\n",
      "\u001B[0;31mModuleNotFoundError\u001B[0m: No module named 'whisper'"
     ]
    }
   ],
   "source": [
    "import pathlib\n",
    "import whisper\n",
    "model_path = pathlib.Path(\"./medium.pt\")\n",
    "if model_path.exists():\n",
    "  print (\"Model has been downloaded, no re-download necessary\")\n",
    "else:\n",
    "  print (\"Starting download of Whisper Model\")\n",
    "  whisper._download(whisper._MODELS[\"medium\"], './medium.pt', False)"
   ],
   "metadata": {
    "collapsed": false,
    "ExecuteTime": {
     "end_time": "2023-08-14T16:50:27.104265Z",
     "start_time": "2023-08-14T16:50:26.892123Z"
    }
   },
   "id": "685ecd8c03d1c497"
  },
  {
   "cell_type": "code",
   "execution_count": null,
   "outputs": [],
   "source": [],
   "metadata": {
    "collapsed": false,
    "ExecuteTime": {
     "end_time": "2023-08-14T16:50:27.108530Z",
     "start_time": "2023-08-14T16:50:27.105923Z"
    }
   },
   "id": "6e83465a104ab3d6"
  }
 ],
 "metadata": {
  "kernelspec": {
   "display_name": "Python 3",
   "language": "python",
   "name": "python3"
  },
  "language_info": {
   "codemirror_mode": {
    "name": "ipython",
    "version": 2
   },
   "file_extension": ".py",
   "mimetype": "text/x-python",
   "name": "python",
   "nbconvert_exporter": "python",
   "pygments_lexer": "ipython2",
   "version": "2.7.6"
  }
 },
 "nbformat": 4,
 "nbformat_minor": 5
}
