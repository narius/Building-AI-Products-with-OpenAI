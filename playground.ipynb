{
 "cells": [
  {
   "cell_type": "markdown",
   "id": "a6ad7285-d7e5-464e-83d6-1e975a1c8b24",
   "metadata": {},
   "source": [
    "### Marcus\n",
    "I am just playing!"
   ]
  },
  {
   "cell_type": "code",
   "execution_count": 14,
   "id": "c54841d7-5ea6-4704-97eb-c35005bb20a6",
   "metadata": {
    "ExecuteTime": {
     "end_time": "2023-08-11T09:16:20.761834Z",
     "start_time": "2023-08-11T09:16:20.757349Z"
    }
   },
   "outputs": [
    {
     "name": "stdout",
     "output_type": "stream",
     "text": [
      "Hello world\n",
      "Hello Marcus\n"
     ]
    }
   ],
   "source": [
    "print(\"Hello world\")\n",
    "h=\"Marcus\"\n",
    "print(f\"Hello {h}\")"
   ]
  },
  {
   "cell_type": "markdown",
   "id": "d99c3fa0-2443-438b-ab38-932a330350c9",
   "metadata": {},
   "source": [
    "Detta är rolig"
   ]
  },
  {
   "cell_type": "code",
   "execution_count": 15,
   "outputs": [
    {
     "name": "stdout",
     "output_type": "stream",
     "text": [
      "No\n"
     ]
    }
   ],
   "source": [
    "print(\"No\")"
   ],
   "metadata": {
    "collapsed": false,
    "ExecuteTime": {
     "end_time": "2023-08-11T09:16:21.763107Z",
     "start_time": "2023-08-11T09:16:21.754250Z"
    }
   },
   "id": "9874819c80a47c15"
  }
 ],
 "metadata": {
  "kernelspec": {
   "display_name": "Python 3 (ipykernel)",
   "language": "python",
   "name": "python3"
  },
  "language_info": {
   "codemirror_mode": {
    "name": "ipython",
    "version": 3
   },
   "file_extension": ".py",
   "mimetype": "text/x-python",
   "name": "python",
   "nbconvert_exporter": "python",
   "pygments_lexer": "ipython3",
   "version": "3.9.5"
  }
 },
 "nbformat": 4,
 "nbformat_minor": 5
}
